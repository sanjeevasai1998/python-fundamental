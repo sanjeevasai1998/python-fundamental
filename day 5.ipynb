{
 "cells": [
  {
   "cell_type": "code",
   "execution_count": 2,
   "id": "e4c9411f",
   "metadata": {},
   "outputs": [
    {
     "name": "stdout",
     "output_type": "stream",
     "text": [
      "['suzuki', 'hyundai', 'bmw', 'audi', 'benz', 'moto']\n"
     ]
    }
   ],
   "source": [
    "cars=['suzuki','hyundai','bmw','audi','benz','moto']\n",
    "print(cars)"
   ]
  },
  {
   "cell_type": "code",
   "execution_count": 5,
   "id": "a9a0340d",
   "metadata": {},
   "outputs": [
    {
     "name": "stdout",
     "output_type": "stream",
     "text": [
      "['audi', 'benz', 'bmw', 'hyundai', 'moto', 'suzuki']\n"
     ]
    }
   ],
   "source": [
    "\n",
    "print(sorted(cars))"
   ]
  },
  {
   "cell_type": "code",
   "execution_count": 6,
   "id": "f600027c",
   "metadata": {},
   "outputs": [
    {
     "name": "stdout",
     "output_type": "stream",
     "text": [
      "['suzuki', 'hyundai', 'bmw', 'audi', 'benz', 'moto']\n"
     ]
    }
   ],
   "source": [
    "print(cars)"
   ]
  },
  {
   "cell_type": "code",
   "execution_count": 7,
   "id": "a419081a",
   "metadata": {},
   "outputs": [
    {
     "name": "stdout",
     "output_type": "stream",
     "text": [
      "['audi', 'benz', 'bmw', 'hyundai', 'moto', 'suzuki']\n"
     ]
    }
   ],
   "source": [
    "cars.sort()\n",
    "print(cars)"
   ]
  },
  {
   "cell_type": "code",
   "execution_count": 8,
   "id": "8f49c8ad",
   "metadata": {},
   "outputs": [
    {
     "name": "stdout",
     "output_type": "stream",
     "text": [
      "['suzuki', 'moto', 'hyundai', 'bmw', 'benz', 'audi']\n"
     ]
    }
   ],
   "source": [
    "cars.reverse()\n",
    "print(cars)"
   ]
  },
  {
   "cell_type": "code",
   "execution_count": 9,
   "id": "ef71f416",
   "metadata": {},
   "outputs": [
    {
     "name": "stdout",
     "output_type": "stream",
     "text": [
      "['suzuki', 'moto', 'hyundai', 'bmw', 'benz', 'audi']\n"
     ]
    }
   ],
   "source": [
    "print(cars)"
   ]
  },
  {
   "cell_type": "code",
   "execution_count": 10,
   "id": "e70f0c3c",
   "metadata": {},
   "outputs": [
    {
     "name": "stdout",
     "output_type": "stream",
     "text": [
      "['suzuki', 'moto']\n"
     ]
    }
   ],
   "source": [
    "print(cars[0:2])"
   ]
  },
  {
   "cell_type": "code",
   "execution_count": 11,
   "id": "45c3ddd8",
   "metadata": {},
   "outputs": [
    {
     "name": "stdout",
     "output_type": "stream",
     "text": [
      "['suzuki', 'hyundai', 'benz']\n"
     ]
    }
   ],
   "source": [
    "print(cars[0:6:2])"
   ]
  },
  {
   "cell_type": "code",
   "execution_count": 12,
   "id": "a5a6c071",
   "metadata": {},
   "outputs": [
    {
     "name": "stdout",
     "output_type": "stream",
     "text": [
      "['suzuki', 'bmw']\n"
     ]
    }
   ],
   "source": [
    "print(cars[0:6:3])"
   ]
  },
  {
   "cell_type": "code",
   "execution_count": 13,
   "id": "dfc8abc1",
   "metadata": {},
   "outputs": [
    {
     "name": "stdout",
     "output_type": "stream",
     "text": [
      "['suzuki', 'moto', 'hyundai', 'bmw', 'benz', 'audi']\n"
     ]
    }
   ],
   "source": [
    "print(cars)"
   ]
  },
  {
   "cell_type": "code",
   "execution_count": 16,
   "id": "76229efc",
   "metadata": {},
   "outputs": [
    {
     "name": "stdout",
     "output_type": "stream",
     "text": [
      "['suzuki', 'moto', 'bmw', 'benz', 'audi']\n"
     ]
    }
   ],
   "source": [
    "del cars[2]\n",
    "print(cars)"
   ]
  },
  {
   "cell_type": "code",
   "execution_count": 18,
   "id": "85b40282",
   "metadata": {},
   "outputs": [
    {
     "name": "stdout",
     "output_type": "stream",
     "text": [
      "['suzuki', 'moto', 'hyundai', 'bmw', 'benz', 'audi']\n"
     ]
    }
   ],
   "source": [
    "cars.insert(2,'hyundai')\n",
    "print(cars)"
   ]
  },
  {
   "cell_type": "code",
   "execution_count": null,
   "id": "4b6f240c",
   "metadata": {},
   "outputs": [],
   "source": []
  }
 ],
 "metadata": {
  "kernelspec": {
   "display_name": "Python 3 (ipykernel)",
   "language": "python",
   "name": "python3"
  },
  "language_info": {
   "codemirror_mode": {
    "name": "ipython",
    "version": 3
   },
   "file_extension": ".py",
   "mimetype": "text/x-python",
   "name": "python",
   "nbconvert_exporter": "python",
   "pygments_lexer": "ipython3",
   "version": "3.10.9"
  }
 },
 "nbformat": 4,
 "nbformat_minor": 5
}
